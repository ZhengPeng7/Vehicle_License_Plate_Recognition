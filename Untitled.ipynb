{
 "cells": [
  {
   "cell_type": "code",
   "execution_count": 8,
   "metadata": {
    "collapsed": true
   },
   "outputs": [],
   "source": [
    "import cv2\n",
    "import matplotlib.pyplot as plt\n",
    "import numpy as np\n",
    "\n",
    "\n",
    "def split_lincense_horizontally(image):\n",
    "    if isinstance(image, str):\n",
    "        img = cv2.imread(image)\n",
    "    else:\n",
    "        img = image\n",
    "    # 彩色图转灰度图, opencv读取图片通道顺序默认是bgr, 而非一半的rgb.\n",
    "    gray = cv2.cvtColor(img, cv2.COLOR_BGR2GRAY)\n",
    "    # gray_GB = cv2.GaussianBlur(gray, (3, 3), 0)\n",
    "    # edges = cv2.Canny(gray_GB, 60, 120)   # img2tfrds can use the borders too\n",
    "    # 阈值化, params: 灰度图像, 将灰度值>90的像素升至255, 反之降至0, thr是阈值化后的二值图像.\n",
    "    ret, thr = cv2.threshold(gray, 90, 255, cv2.THRESH_BINARY)\n",
    "    # 已知车牌共有7个字符+第三位置的\"·\"\n",
    "    character_num = 7\n",
    "    # 这2个for循环的目的是消除上下的\n",
    "    for i in range(thr.shape[0]-1, -1, -1):\n",
    "        is_delete = 0\n",
    "        for j in range(character_num - 1, -1, -1):\n",
    "            if sum(thr[i, j * thr.shape[1]//character_num:(j+1) *\n",
    "                   thr.shape[1]//character_num]) == 0:\n",
    "                # 将\n",
    "                is_delete += 1\n",
    "        if is_delete > 1:\n",
    "            thr = thr[:i]\n",
    "        else:\n",
    "            break\n",
    "    thr = thr[::-1, :]\n",
    "    for i in range(thr.shape[0]-1, -1, -1):\n",
    "        is_delete = 0\n",
    "        for j in range(character_num - 1, -1, -1):\n",
    "            if sum(thr[i, j * thr.shape[1]//character_num:(j+1) *\n",
    "                   thr.shape[1]//character_num]) == 0:\n",
    "                is_delete += 1\n",
    "        if is_delete > 1:\n",
    "            thr = thr[:i]\n",
    "        else:\n",
    "            break\n",
    "    thr = thr[::-1, :]\n",
    "    if np.sum(thr[:1, :]) * 2 > 255 * thr.shape[1]:\n",
    "        thr = 255 - thr\n",
    "    # smooth bottom and top\n",
    "    for i in range(thr.shape[0]-1, -1, -1):\n",
    "        jump_counter = 0\n",
    "        prev_value = thr[i][0]\n",
    "        is_jump = 0     # the step must be larger than the criteria\n",
    "        for j in thr[i]:\n",
    "            is_jump += 1\n",
    "            if j != prev_value:\n",
    "                if is_jump > 3:     # if the step is satisfied to the condition\n",
    "                    jump_counter += 1\n",
    "                prev_value = j\n",
    "                is_jump = 0\n",
    "        if jump_counter < 12:\n",
    "            thr = thr[:i]\n",
    "        else:\n",
    "            break\n",
    "    thr = thr[::-1]\n",
    "    for i in range(thr.shape[0]-1, -1, -1):\n",
    "        jump_counter = 0\n",
    "        prev_value = thr[i][0]\n",
    "        is_jump = 0     # the step must be larger than the criteria\n",
    "        for j in thr[i]:\n",
    "            is_jump += 1\n",
    "            if j != prev_value:\n",
    "                if is_jump > 3:     # if the step is satisfied to the condition\n",
    "                    jump_counter += 1\n",
    "                prev_value = j\n",
    "                is_jump = 0\n",
    "        if jump_counter < 12:\n",
    "            thr = thr[:i]\n",
    "        else:\n",
    "            break\n",
    "    thr = thr[::-1]\n",
    "    if thr[:, 0].all():\n",
    "        cv2.floodFill(\n",
    "            thr, np.zeros((thr.shape[0]+2, thr.shape[1]+2), dtype=np.uint8),\n",
    "            (0, 0), 0)\n",
    "    # floodFill to delete the vertical white space on both sides\n",
    "    if thr[:, -1].all():\n",
    "        cv2.floodFill(\n",
    "            thr, np.zeros((thr.shape[0]+2, thr.shape[1]+2), dtype=np.uint8),\n",
    "            (thr.shape[1]-1, 0), 0)\n",
    "    plt.imshow(thr, cmap=\"gray\")\n",
    "    plt.title(\"floodFill\")\n",
    "    plt.show()\n",
    "\n",
    "    # Morphology\n",
    "    kernel = cv2.getStructuringElement(cv2.MORPH_RECT, (1, 3))\n",
    "    kernel1 = cv2.getStructuringElement(cv2.MORPH_RECT, (2, 2))\n",
    "    thr_without_circle = cv2.morphologyEx(\n",
    "        cv2.dilate(thr, kernel), cv2.MORPH_CLOSE, kernel1)\n",
    "\n",
    "    # cross line to kick out dot\n",
    "    thr_without_circle[5, :] = 255\n",
    "\n",
    "    _, cnts, _ = cv2.findContours(thr_without_circle,\n",
    "                                  cv2.RETR_TREE, cv2.CHAIN_APPROX_SIMPLE)\n",
    "    small_premeter = [i for i in cnts if cv2.contourArea(i) < 100]\n",
    "    cv2.fillPoly(thr_without_circle, small_premeter, 0)     # Denoising\n",
    "\n",
    "    _, cnts, _ = cv2.findContours(thr_without_circle,\n",
    "                                  cv2.RETR_TREE, cv2.CHAIN_APPROX_SIMPLE)\n",
    "    small_premeter = [i for i in cnts if cv2.contourArea(i) < 100]\n",
    "    cv2.fillPoly(thr_without_circle, small_premeter, 255)\n",
    "    kernel2 = cv2.getStructuringElement(cv2.MORPH_RECT, (3, 5))\n",
    "    thr_without_circle_and = cv2.bitwise_and(\n",
    "        cv2.dilate(thr_without_circle, kernel2), thr)\n",
    "    # fig, (ax0, ax1) = plt.subplots(1, 2, figsize=(12, 6))\n",
    "    # ax0.imshow(thr_without_circle, cmap=\"gray\")\n",
    "    # ax1.imshow(thr_without_circle_and, cmap=\"gray\")\n",
    "    # plt.show()\n",
    "\n",
    "    # cut out the all-black borders\n",
    "    for i in range(thr_without_circle_and.shape[1]):\n",
    "        if sum(thr_without_circle_and[:, i]) > 0:\n",
    "            thr_without_circle_and = thr_without_circle_and[:, i:]\n",
    "            break\n",
    "    for i in range(thr_without_circle_and.shape[1]-1, -1, -1):\n",
    "        if sum(thr_without_circle_and[:, i]) > 0:\n",
    "            thr_without_circle_and = thr_without_circle_and[:, :i+1]\n",
    "            break\n",
    "\n",
    "    # get split lines\n",
    "    vertical_lines_0 = []\n",
    "    vertical_lines_1 = []\n",
    "    is_append = 1\n",
    "    for i in range(thr_without_circle_and.shape[1]):\n",
    "        if sum(thr_without_circle_and[:, i]) == 0:\n",
    "            if is_append:\n",
    "                vertical_lines_0.append(i)\n",
    "                is_append = 0\n",
    "        else:\n",
    "            is_append = 1\n",
    "    is_append = 1\n",
    "    for i in range(thr_without_circle_and.shape[1] - 1, -1, -1):\n",
    "        if sum(thr_without_circle_and[:, i]) == 0:\n",
    "            if is_append:\n",
    "                vertical_lines_1.append(i)\n",
    "                is_append = 0\n",
    "        else:\n",
    "            is_append = 1\n",
    "\n",
    "    # split out the individual character into split_imgs\n",
    "    black_spaces = list(zip(vertical_lines_0, sorted(vertical_lines_1)))\n",
    "    white_spaces = black_spaces.copy()\n",
    "    white_spaces = np.array(black_spaces).flatten().tolist()\n",
    "    white_spaces.append(thr_without_circle_and.shape[1])\n",
    "    white_spaces.insert(0, 0)\n",
    "    # print(\"white_spaces:\", white_spaces)\n",
    "    split_imgs = []\n",
    "    for i in range(0, len(white_spaces), 2):\n",
    "        split_imgs.append(\n",
    "            thr_without_circle_and[:, white_spaces[i]:white_spaces[i+1]])\n",
    "\n",
    "    return split_imgs\n",
    "\n",
    "\n",
    "def main():\n",
    "    image = \"./images/cars/car_0.jpg\"\n",
    "    split_imgs = split_lincense_horizontally(image)\n",
    "    # print(\"split_imgs:\", split_imgs)\n",
    "#     for i in split_imgs:\n",
    "#         plt.imshow(i, cmap=\"gray\")\n",
    "#         plt.show()"
   ]
  },
  {
   "cell_type": "code",
   "execution_count": 9,
   "metadata": {
    "collapsed": true
   },
   "outputs": [],
   "source": [
    "%matplotlib inline"
   ]
  },
  {
   "cell_type": "code",
   "execution_count": 10,
   "metadata": {},
   "outputs": [
    {
     "data": {
      "image/png": "[encoded data removed]",
      "text/plain": [
       "<matplotlib.figure.Figure at 0x271c0a7f358>"
      ]
     },
     "metadata": {},
     "output_type": "display_data"
    }
   ],
   "source": [
    "main()"
   ]
  },
  {
   "cell_type": "code",
   "execution_count": 3,
   "metadata": {},
   "outputs": [
    {
     "ename": "NameError",
     "evalue": "name 'plates' is not defined",
     "output_type": "error",
     "traceback": [
      "\u001b[1;31m---------------------------------------------------------------------------\u001b[0m",
      "\u001b[1;31mNameError\u001b[0m                                 Traceback (most recent call last)",
      "\u001b[1;32m<ipython-input-3-f68bf4748f5b>\u001b[0m in \u001b[0;36m<module>\u001b[1;34m()\u001b[0m\n\u001b[0;32m     26\u001b[0m \u001b[1;31m# x_train = []\u001b[0m\u001b[1;33m\u001b[0m\u001b[1;33m\u001b[0m\u001b[0m\n\u001b[0;32m     27\u001b[0m \u001b[0my_test\u001b[0m \u001b[1;33m=\u001b[0m \u001b[0mnp\u001b[0m\u001b[1;33m.\u001b[0m\u001b[0mzeros\u001b[0m\u001b[1;33m(\u001b[0m\u001b[1;33m(\u001b[0m\u001b[1;36m7\u001b[0m\u001b[1;33m,\u001b[0m \u001b[1;36m68\u001b[0m\u001b[1;33m)\u001b[0m\u001b[1;33m,\u001b[0m \u001b[0mdtype\u001b[0m\u001b[1;33m=\u001b[0m\u001b[0mnp\u001b[0m\u001b[1;33m.\u001b[0m\u001b[0muint8\u001b[0m\u001b[1;33m)\u001b[0m\u001b[1;33m\u001b[0m\u001b[0m\n\u001b[1;32m---> 28\u001b[1;33m \u001b[0mx_test\u001b[0m \u001b[1;33m=\u001b[0m \u001b[0mnp\u001b[0m\u001b[1;33m.\u001b[0m\u001b[0marray\u001b[0m\u001b[1;33m(\u001b[0m\u001b[0mplates\u001b[0m\u001b[1;33m)\u001b[0m\u001b[1;33m\u001b[0m\u001b[0m\n\u001b[0m\u001b[0;32m     29\u001b[0m \u001b[1;31m# print(\"y_test.shape={}\".format(y_test.shape))\u001b[0m\u001b[1;33m\u001b[0m\u001b[1;33m\u001b[0m\u001b[0m\n\u001b[0;32m     30\u001b[0m \u001b[1;31m# print(\"x_test.shape={}\".format(x_test.shape))\u001b[0m\u001b[1;33m\u001b[0m\u001b[1;33m\u001b[0m\u001b[0m\n",
      "\u001b[1;31mNameError\u001b[0m: name 'plates' is not defined"
     ]
    }
   ],
   "source": [
    "import tensorflow as tf\n",
    "import numpy as np\n",
    "from keras.utils import to_categorical\n",
    "import matplotlib.pyplot as plt\n",
    "import cv2\n",
    "import extract_figures\n",
    "from collections import OrderedDict\n",
    "import os\n",
    "from matplotlib.font_manager import FontProperties\n",
    "import sys\n",
    "\n",
    "\n",
    "# def predict_plate(plates):\n",
    "characters_ref = OrderedDict().fromkeys([\n",
    "    '0', '1', '2', '3', '4', '5', '6', '7', '8', '9',\n",
    "    'A', 'B', 'C', 'D', 'E', 'F', 'G', 'H', 'I', 'J',\n",
    "    'K', 'L', 'M', 'N', 'O', 'P', 'Q', 'R', 'S', 'T',\n",
    "    'U', 'V', 'W', 'X', 'Y', 'Z',\n",
    "    '藏', '川', '鄂', '甘', '赣', '广', '桂', '贵', '黑',\n",
    "    '沪', '吉', '冀', '津', '晋', '京', '辽', '鲁', '蒙',\n",
    "    '闽', '宁', '青', '琼', '陕', '苏', '皖', '湘', '新',\n",
    "    '渝', '豫', '粤', '云', '浙'\n",
    "    ])\n",
    "characters_ref_keys = list(characters_ref.keys())\n",
    "# y_train = []\n",
    "# x_train = []\n",
    "y_test = np.zeros((7, 68), dtype=np.uint8)\n",
    "x_test = np.array(plates)\n",
    "# print(\"y_test.shape={}\".format(y_test.shape))\n",
    "# print(\"x_test.shape={}\".format(x_test.shape))\n",
    "\n",
    "class_num = y_test.shape[-1]\n",
    "sess = tf.InteractiveSession()\n",
    "\n",
    "x = tf.placeholder(\"float\", shape=[None, 784])\n",
    "y_ = tf.placeholder(\"float\", shape=[None, class_num])\n",
    "# 把x更改为4维张量，第1维代表样本数量，第2维和第3维代表图像长宽， 第4维代表图像通道数, 1表示黑白\n",
    "x_image = tf.reshape(x, [-1, 28, 28, 1])\n",
    "\n",
    "# 第一层：卷积层\n",
    "conv1_weights = tf.get_variable(\n",
    "    \"conv1_weights\",\n",
    "    [5, 5, 1, 32],\n",
    "    initializer=tf.truncated_normal_initializer(stddev=0.1))\n",
    "# 过滤器大小为5*5, 当前层深度为1， 过滤器的深度为32\n",
    "conv1_biases = tf.get_variable(\"conv1_biases\", [32],\n",
    "                               initializer=tf.constant_initializer(0.0))\n",
    "conv1 = tf.nn.conv2d(x_image, conv1_weights, strides=[1, 1, 1, 1],\n",
    "                     padding='SAME')\n",
    "# 移动步长为1, 使用全0填充\n",
    "relu1 = tf.nn.relu(tf.nn.bias_add(conv1, conv1_biases))     # 激活函数Relu去线性化\n",
    "\n",
    "# 第二层：最大池化层\n",
    "# 池化层过滤器的大小为2*2, 移动步长为2，使用全0填充\n",
    "pool1 = tf.nn.max_pool(relu1, ksize=[1, 2, 2, 1], strides=[1, 2, 2, 1],\n",
    "                       padding='SAME')\n",
    "\n",
    "# 第三层：卷积层\n",
    "conv2_weights = tf.get_variable(\n",
    "    \"conv2_weights\",\n",
    "    [5, 5, 32, 64],\n",
    "    initializer=tf.truncated_normal_initializer(stddev=0.1))\n",
    "# 过滤器大小为5*5, 当前层深度为32， 过滤器的深度为64\n",
    "conv2_biases = tf.get_variable(\n",
    "    \"conv2_biases\", [64], initializer=tf.constant_initializer(0.0))\n",
    "conv2 = tf.nn.conv2d(pool1, conv2_weights, strides=[1, 1, 1, 1],\n",
    "                     padding='SAME')\n",
    "# 移动步长为1, 使用全0填充\n",
    "relu2 = tf.nn.relu(tf.nn.bias_add(conv2, conv2_biases))\n",
    "\n",
    "# 第四层：最大池化层\n",
    "# 池化层过滤器的大小为2*2, 移动步长为2，使用全0填充\n",
    "pool2 = tf.nn.max_pool(relu2, ksize=[1, 2, 2, 1], strides=[1, 2, 2, 1],\n",
    "                       padding='SAME')\n",
    "\n",
    "# 第五层：全连接层\n",
    "fc1_weights = tf.get_variable(\"fc1_weights\", [7 * 7 * 64, 1024],\n",
    "                              initializer=tf.truncated_normal_initializer(\n",
    "                              stddev=0.1))\n",
    "# 7*7*64=3136把前一层的输出变成特征向量\n",
    "fc1_biases = tf.get_variable(\n",
    "    \"fc1_biases\", [1024], initializer=tf.constant_initializer(0.1))\n",
    "pool2_vector = tf.reshape(pool2, [-1, 7 * 7 * 64])\n",
    "fc1 = tf.nn.relu(tf.matmul(pool2_vector, fc1_weights) + fc1_biases)\n",
    "\n",
    "# 为了减少过拟合，加入Dropout层\n",
    "keep_prob = tf.placeholder(tf.float32)\n",
    "fc1_dropout = tf.nn.dropout(fc1, keep_prob)\n",
    "\n",
    "# 第六层：全连接层\n",
    "fc2_weights = tf.get_variable(\"fc2_weights\", [1024, class_num],\n",
    "                              initializer=tf.truncated_normal_initializer(\n",
    "                              stddev=0.1))\n",
    "# 神经元节点数1024, 分类节点10\n",
    "fc2_biases = tf.get_variable(\n",
    "    \"fc2_biases\", [class_num], initializer=tf.constant_initializer(0.1))\n",
    "fc2 = tf.matmul(fc1_dropout, fc2_weights) + fc2_biases\n",
    "\n",
    "# 第七层：输出层\n",
    "# softmax\n",
    "y_conv = tf.nn.softmax(fc2)\n",
    "pred_class_index = tf.argmax(y_conv, 1)\n",
    "\n",
    "# tf.argmax()返回的是某一维度上其数据最大所在的索引值，在这里即代表预测值和真实值\n",
    "# 判断预测值y和真实值y_中最大数的索引是否一致，y的值为1-class_num概率\n",
    "# correct_prediction = tf.equal(pred_class_index, tf.argmax(y_, 1))\n",
    "\n",
    "# 用平均值来统计测试准确率\n",
    "# accuracy = tf.reduce_mean(tf.cast(correct_prediction, tf.float32))\n",
    "\n",
    "# 开始训练\n",
    "saver = tf.train.Saver()\n",
    "# sess.run(tf.global_variables_initializer())\n",
    "saver.restore(sess, './my_model/model.ckpt')\n",
    "# pred_value = sess.run([pred_class_index], feed_dict={\n",
    "#     x: x_test, y_: y_test, keep_prob: 1.0\n",
    "# })\n",
    "# print(\"pred_value=\" + str(pred_value))\n",
    "# acc_test = sess.run(accuracy, feed_dict={\n",
    "#     x: x_test, y_: y_test, keep_prob: 1.0\n",
    "# })\n",
    "#\n",
    "batch_size_test = 1\n",
    "if not y_test.shape[0] % batch_size_test:\n",
    "    epoch_test = y_test.shape[0] // batch_size_test\n",
    "else:\n",
    "    epoch_test = y_test.shape[0] // batch_size_test + 1\n",
    "pred_values = []\n",
    "for i in range(epoch_test):\n",
    "    if (i*batch_size_test % x_test.shape[0]) > (((i+1)*batch_size_test) %\n",
    "                                                x_test.shape[0]):\n",
    "        x_data_test = np.vstack((\n",
    "            x_test[i*batch_size_test % x_test.shape[0]:],\n",
    "            x_test[:(i+1)*batch_size_test % x_test.shape[0]]))\n",
    "        y_data_test = np.vstack((\n",
    "            y_test[i*batch_size_test % y_test.shape[0]:],\n",
    "            y_test[:(i+1)*batch_size_test % y_test.shape[0]]))\n",
    "    else:\n",
    "        x_data_test = x_test[\n",
    "            i*batch_size_test % x_test.shape[0]:\n",
    "            (i+1)*batch_size_test % x_test.shape[0]]\n",
    "        y_data_test = y_test[\n",
    "            i*batch_size_test % y_test.shape[0]:\n",
    "            (i+1)*batch_size_test % y_test.shape[0]]\n",
    "    # plt.imshow(x_data_test[0].reshape(28, 28), cmap=\"gray\")\n",
    "    # plt.show()\n",
    "    # Calculate batch loss and accuracy\n",
    "    pred_value = to_categorical(np.squeeze(\n",
    "        sess.run([pred_class_index], feed_dict={\n",
    "               x: x_data_test, y_: y_data_test, keep_prob: 1.0})), 68)\n",
    "    # print(\"{}-th pred_value={}\".format(i, pred_value))\n",
    "    pred_values.append(characters_ref_keys[(np.argmax(pred_value))])"
   ]
  },
  {
   "cell_type": "code",
   "execution_count": 4,
   "metadata": {},
   "outputs": [
    {
     "data": {
      "image/png": "[encoded data removed]",
      "text/plain": [
       "<matplotlib.figure.Figure at 0x280862fd208>"
      ]
     },
     "metadata": {},
     "output_type": "display_data"
    },
    {
     "data": {
      "image/png": "[encoded data removed]",
      "text/plain": [
       "<matplotlib.figure.Figure at 0x280863eceb8>"
      ]
     },
     "metadata": {},
     "output_type": "display_data"
    }
   ],
   "source": [
    "image = './images/cars/car_0.jpg'\n",
    "plate = extract_figures.extract_figures(image)\n",
    "# pred_values = predict_plate(plate)\n",
    "# pred_values.insert(2, '·')\n",
    "# print(\"The License Plate is: {}\".format(pred_values))\n",
    "# plt.imshow(cv2.cvtColor(cv2.imread(image), cv2.COLOR_BGR2RGB))\n",
    "# plt.title(''.join(pred_values))\n",
    "# plt.show()\n"
   ]
  },
  {
   "cell_type": "code",
   "execution_count": 9,
   "metadata": {},
   "outputs": [
    {
     "data": {
      "image/png": "[encoded data removed]",
      "text/plain": [
       "<matplotlib.figure.Figure at 0x280865ee2e8>"
      ]
     },
     "metadata": {},
     "output_type": "display_data"
    },
    {
     "data": {
      "image/png": "[encoded data removed]",
      "text/plain": [
       "<matplotlib.figure.Figure at 0x28085baf208>"
      ]
     },
     "metadata": {},
     "output_type": "display_data"
    },
    {
     "data": {
      "image/png": "[encoded data removed]",
      "text/plain": [
       "<matplotlib.figure.Figure at 0x28086639d68>"
      ]
     },
     "metadata": {},
     "output_type": "display_data"
    },
    {
     "data": {
      "image/png": "[encoded data removed]",
      "text/plain": [
       "<matplotlib.figure.Figure at 0x28085ce19e8>"
      ]
     },
     "metadata": {},
     "output_type": "display_data"
    },
    {
     "data": {
      "image/png": "[encoded data removed]",
      "text/plain": [
       "<matplotlib.figure.Figure at 0x280865a5710>"
      ]
     },
     "metadata": {},
     "output_type": "display_data"
    },
    {
     "data": {
      "image/png": "[encoded data removed]",
      "text/plain": [
       "<matplotlib.figure.Figure at 0x28086419278>"
      ]
     },
     "metadata": {},
     "output_type": "display_data"
    },
    {
     "data": {
      "image/png": "[encoded data removed]",
      "text/plain": [
       "<matplotlib.figure.Figure at 0x28085b46748>"
      ]
     },
     "metadata": {},
     "output_type": "display_data"
    }
   ],
   "source": [
    "for i in plate:\n",
    "    plt.imshow(i.reshape(28, 28), cmap='gray')\n",
    "    plt.show()"
   ]
  },
  {
   "cell_type": "code",
   "execution_count": 8,
   "metadata": {},
   "outputs": [
    {
     "data": {
      "text/plain": [
       "(784,)"
      ]
     },
     "execution_count": 8,
     "metadata": {},
     "output_type": "execute_result"
    }
   ],
   "source": [
    "plate[0].shape"
   ]
  },
  {
   "cell_type": "code",
   "execution_count": 12,
   "metadata": {},
   "outputs": [
    {
     "data": {
      "image/png": "[encoded data removed]",
      "text/plain": [
       "<matplotlib.figure.Figure at 0x28086737eb8>"
      ]
     },
     "metadata": {},
     "output_type": "display_data"
    },
    {
     "data": {
      "image/png": "[encoded data removed]",
      "text/plain": [
       "<matplotlib.figure.Figure at 0x2808556a128>"
      ]
     },
     "metadata": {},
     "output_type": "display_data"
    },
    {
     "data": {
      "image/png": "[encoded data removed]",
      "text/plain": [
       "<matplotlib.figure.Figure at 0x2808696c748>"
      ]
     },
     "metadata": {},
     "output_type": "display_data"
    },
    {
     "data": {
      "image/png": "[encoded data removed]",
      "text/plain": [
       "<matplotlib.figure.Figure at 0x28085cc8048>"
      ]
     },
     "metadata": {},
     "output_type": "display_data"
    },
    {
     "data": {
      "image/png": "[encoded data removed]",
      "text/plain": [
       "<matplotlib.figure.Figure at 0x280869567b8>"
      ]
     },
     "metadata": {},
     "output_type": "display_data"
    },
    {
     "data": {
      "image/png": "[encoded data removed]",
      "text/plain": [
       "<matplotlib.figure.Figure at 0x28085cc8358>"
      ]
     },
     "metadata": {},
     "output_type": "display_data"
    },
    {
     "data": {
      "image/png": "[encoded data removed]",
      "text/plain": [
       "<matplotlib.figure.Figure at 0x280856894a8>"
      ]
     },
     "metadata": {},
     "output_type": "display_data"
    },
    {
     "data": {
      "image/png": "[encoded data removed]",
      "text/plain": [
       "<matplotlib.figure.Figure at 0x28086671668>"
      ]
     },
     "metadata": {},
     "output_type": "display_data"
    },
    {
     "data": {
      "image/png": "[encoded data removed]",
      "text/plain": [
       "<matplotlib.figure.Figure at 0x28085cc8898>"
      ]
     },
     "metadata": {},
     "output_type": "display_data"
    }
   ],
   "source": [
    "import detect_lincense\n",
    "import split_horizontally\n",
    "import matplotlib.pyplot as plt\n",
    "import cv2\n",
    "\n",
    "\n",
    "def extract_figures(image):\n",
    "\n",
    "    plate = detect_lincense.detect_lincense(image)\n",
    "    # plt.imshow(cv2.cvtColor(plate, cv2.COLOR_BGR2RGB))\n",
    "    # plt.show()\n",
    "    split_figures = split_horizontally.split_lincense_horizontally(plate)\n",
    "    for i in split_figures.copy():\n",
    "        plt.imshow(i, cmap=\"gray\")\n",
    "        plt.show()\n",
    "        gray_resized = cv2.resize(i, (28, 28), cv2.INTER_AREA)\n",
    "        ret, thr = cv2.threshold(gray_resized, 127, 255, cv2.THRESH_OTSU)\n",
    "        split_figures.pop(0)\n",
    "        split_figures.append(thr.flatten())\n",
    "\n",
    "    return split_figures\n",
    "\n",
    "\n",
    "def a():\n",
    "    image = \"./images/cars/car_0.jpg\"\n",
    "    split_figures = extract_figures(image)\n",
    "#     for i in split_figures:\n",
    "#         plt.imshow(i.reshape(28, 28), cmap=\"gray\")\n",
    "#         plt.show()\n",
    "\n",
    "\n",
    "if __name__ == '__main__':\n",
    "    a()\n"
   ]
  },
  {
   "cell_type": "code",
   "execution_count": 4,
   "metadata": {},
   "outputs": [
    {
     "data": {
      "image/png": "[encoded data removed]",
      "text/plain": [
       "<matplotlib.figure.Figure at 0x21d8ec0f470>"
      ]
     },
     "metadata": {},
     "output_type": "display_data"
    },
    {
     "data": {
      "image/png": "[encoded data removed]",
      "text/plain": [
       "<matplotlib.figure.Figure at 0x21d8eb99588>"
      ]
     },
     "metadata": {},
     "output_type": "display_data"
    },
    {
     "data": {
      "image/png": "[encoded data removed]",
      "text/plain": [
       "<matplotlib.figure.Figure at 0x21d8e52f978>"
      ]
     },
     "metadata": {},
     "output_type": "display_data"
    },
    {
     "data": {
      "image/png": "[encoded data removed]",
      "text/plain": [
       "<matplotlib.figure.Figure at 0x21d8e900668>"
      ]
     },
     "metadata": {},
     "output_type": "display_data"
    },
    {
     "data": {
      "image/png": "[encoded data removed]",
      "text/plain": [
       "<matplotlib.figure.Figure at 0x21d8e9144e0>"
      ]
     },
     "metadata": {},
     "output_type": "display_data"
    },
    {
     "data": {
      "image/png": "[encoded data removed]",
      "text/plain": [
       "<matplotlib.figure.Figure at 0x21d8e9ae940>"
      ]
     },
     "metadata": {},
     "output_type": "display_data"
    },
    {
     "data": {
      "image/png": "[encoded data removed]",
      "text/plain": [
       "<matplotlib.figure.Figure at 0x21d8ec0f4e0>"
      ]
     },
     "metadata": {},
     "output_type": "display_data"
    },
    {
     "data": {
      "image/png": "[encoded data removed]",
      "text/plain": [
       "<matplotlib.figure.Figure at 0x21d8e40ed68>"
      ]
     },
     "metadata": {},
     "output_type": "display_data"
    },
    {
     "data": {
      "image/png": "[encoded data removed]",
      "text/plain": [
       "<matplotlib.figure.Figure at 0x21d8ec77748>"
      ]
     },
     "metadata": {},
     "output_type": "display_data"
    }
   ],
   "source": [
    "import cv2\n",
    "import matplotlib.pyplot as plt\n",
    "import numpy as np\n",
    "import detect_lincense\n",
    "\n",
    "\n",
    "image = \"./images/cars/car_0.jpg\"\n",
    "# def split_lincense_horizontally(image):\n",
    "plate = detect_lincense.detect_lincense(image)\n",
    "if isinstance(plate, str):\n",
    "    img = cv2.imread(plate)\n",
    "else:\n",
    "    img = plate\n",
    "gray = cv2.cvtColor(img, cv2.COLOR_BGR2GRAY)\n",
    "# gray_GB = cv2.GaussianBlur(gray, (3, 3), 0)\n",
    "# edges = cv2.Canny(gray_GB, 60, 120)   # img2tfrds can use the borders too\n",
    "ret, thr = cv2.threshold(gray, 90, 255, cv2.THRESH_BINARY)\n",
    "character_num = 7\n",
    "#     for i in range(thr.shape[0]-1, -1, -1):\n",
    "#         is_delete = 0\n",
    "#         for j in range(character_num - 1, -1, -1):\n",
    "#             if sum(thr[i, j * thr.shape[1]//character_num:(j+1) *\n",
    "#                    thr.shape[1]//character_num]) == 0:\n",
    "#                 is_delete += 1\n",
    "#         if is_delete > 1:\n",
    "#             thr = thr[:i]\n",
    "#         else:\n",
    "#             break\n",
    "#     thr = thr[::-1, :]\n",
    "#     for i in range(thr.shape[0]-1, -1, -1):\n",
    "#         is_delete = 0\n",
    "#         for j in range(character_num - 1, -1, -1):\n",
    "#             if sum(thr[i, j * thr.shape[1]//character_num:(j+1) *\n",
    "#                    thr.shape[1]//character_num]) == 0:\n",
    "#                 is_delete += 1\n",
    "#         if is_delete > 1:\n",
    "#             thr = thr[:i]\n",
    "#         else:\n",
    "#             break\n",
    "#     thr = thr[::-1, :]\n",
    "if np.sum(thr[:1, :]) * 2 > 255 * thr.shape[1]:\n",
    "    thr = 255 - thr\n",
    "# smooth bottom and top\n",
    "for i in range(thr.shape[0]-1, -1, -1):\n",
    "    jump_counter = 0\n",
    "    prev_value = thr[i][0]\n",
    "    is_jump = 0     # the step must be larger than the criteria\n",
    "    for j in thr[i]:\n",
    "        is_jump += 1\n",
    "        if j != prev_value:\n",
    "            if is_jump > 3:     # if the step is satisfied to the condition\n",
    "                jump_counter += 1\n",
    "            prev_value = j\n",
    "            is_jump = 0\n",
    "    if jump_counter < 12:\n",
    "        thr = thr[:i]\n",
    "    else:\n",
    "        break\n",
    "thr = thr[::-1]\n",
    "for i in range(thr.shape[0]-1, -1, -1):\n",
    "    jump_counter = 0\n",
    "    prev_value = thr[i][0]\n",
    "    is_jump = 0     # the step must be larger than the criteria\n",
    "    for j in thr[i]:\n",
    "        is_jump += 1\n",
    "        if j != prev_value:\n",
    "            if is_jump > 3:     # if the step is satisfied to the condition\n",
    "                jump_counter += 1\n",
    "            prev_value = j\n",
    "            is_jump = 0\n",
    "    if jump_counter < 12:\n",
    "        thr = thr[:i]\n",
    "    else:\n",
    "        break\n",
    "thr = thr[::-1]\n",
    "# if thr[:, 0].all():\n",
    "#     cv2.floodFill(\n",
    "#         thr, np.zeros((thr.shape[0]+2, thr.shape[1]+2), dtype=np.uint8),\n",
    "#         (0, 0), 0)\n",
    "# # floodFill to delete the vertical white space on both sides\n",
    "# if thr[:, -1].all():\n",
    "#     cv2.floodFill(\n",
    "#         thr, np.zeros((thr.shape[0]+2, thr.shape[1]+2), dtype=np.uint8),\n",
    "#         (thr.shape[1]-1, 0), 0)\n",
    "plt.imshow(thr, cmap=\"gray\")\n",
    "plt.title(\"floodFill\")\n",
    "plt.show()\n",
    "\n",
    "# Morphology\n",
    "kernel = cv2.getStructuringElement(cv2.MORPH_RECT, (1, 3))\n",
    "kernel1 = cv2.getStructuringElement(cv2.MORPH_RECT, (2, 2))\n",
    "thr_without_circle = cv2.morphologyEx(\n",
    "    cv2.dilate(thr, kernel), cv2.MORPH_CLOSE, kernel1)\n",
    "\n",
    "# cross line to kick out dot\n",
    "thr_without_circle[5, :] = 255\n",
    "\n",
    "_, cnts, _ = cv2.findContours(thr_without_circle,\n",
    "                              cv2.RETR_TREE, cv2.CHAIN_APPROX_SIMPLE)\n",
    "small_premeter = [i for i in cnts if cv2.contourArea(i) < 100]\n",
    "cv2.fillPoly(thr_without_circle, small_premeter, 0)     # Denoising\n",
    "\n",
    "_, cnts, _ = cv2.findContours(thr_without_circle,\n",
    "                              cv2.RETR_TREE, cv2.CHAIN_APPROX_SIMPLE)\n",
    "small_premeter = [i for i in cnts if cv2.contourArea(i) < 100]\n",
    "cv2.fillPoly(thr_without_circle, small_premeter, 255)\n",
    "kernel2 = cv2.getStructuringElement(cv2.MORPH_RECT, (3, 5))\n",
    "thr_without_circle_and = cv2.bitwise_and(\n",
    "    cv2.dilate(thr_without_circle, kernel2), thr)\n",
    "# fig, (ax0, ax1) = plt.subplots(1, 2, figsize=(12, 6))\n",
    "# ax0.imshow(thr_without_circle, cmap=\"gray\")\n",
    "# ax1.imshow(thr_without_circle_and, cmap=\"gray\")\n",
    "# plt.show()\n",
    "\n",
    "# cut out the all-black borders\n",
    "for i in range(thr_without_circle_and.shape[1]):\n",
    "    if sum(thr_without_circle_and[:, i]) > 0:\n",
    "        thr_without_circle_and = thr_without_circle_and[:, i:]\n",
    "        break\n",
    "for i in range(thr_without_circle_and.shape[1]-1, -1, -1):\n",
    "    if sum(thr_without_circle_and[:, i]) > 0:\n",
    "        thr_without_circle_and = thr_without_circle_and[:, :i+1]\n",
    "        break\n",
    "\n",
    "# get split lines\n",
    "vertical_lines_0 = []\n",
    "vertical_lines_1 = []\n",
    "is_append = 1\n",
    "for i in range(thr_without_circle_and.shape[1]):\n",
    "    if sum(thr_without_circle_and[:, i]) == 0:\n",
    "        if is_append:\n",
    "            vertical_lines_0.append(i)\n",
    "            is_append = 0\n",
    "    else:\n",
    "        is_append = 1\n",
    "is_append = 1\n",
    "for i in range(thr_without_circle_and.shape[1] - 1, -1, -1):\n",
    "    if sum(thr_without_circle_and[:, i]) == 0:\n",
    "        if is_append:\n",
    "            vertical_lines_1.append(i)\n",
    "            is_append = 0\n",
    "    else:\n",
    "        is_append = 1\n",
    "\n",
    "# split out the individual character into split_imgs\n",
    "black_spaces = list(zip(vertical_lines_0, sorted(vertical_lines_1)))\n",
    "white_spaces = black_spaces.copy()\n",
    "white_spaces = np.array(black_spaces).flatten().tolist()\n",
    "white_spaces.append(thr_without_circle_and.shape[1])\n",
    "white_spaces.insert(0, 0)\n",
    "# print(\"white_spaces:\", white_spaces)\n",
    "split_imgs = []\n",
    "for i in range(0, len(white_spaces), 2):\n",
    "    split_imgs.append(\n",
    "        thr_without_circle_and[:, white_spaces[i]:white_spaces[i+1]])\n",
    "\n",
    "#     return split_imgs\n",
    "\n",
    "\n",
    "# def m():\n",
    "# split_imgs = split_lincense_horizontally(plate)\n",
    "#     print(\"split_imgs:\", split_imgs)\n",
    "for i in split_imgs:\n",
    "    plt.imshow(i, cmap=\"gray\")\n",
    "    plt.show()\n"
   ]
  },
  {
   "cell_type": "code",
   "execution_count": 9,
   "metadata": {},
   "outputs": [
    {
     "data": {
      "image/png": "[encoded data removed]",
      "text/plain": [
       "<matplotlib.figure.Figure at 0x21d8e5b46a0>"
      ]
     },
     "metadata": {},
     "output_type": "display_data"
    },
    {
     "data": {
      "image/png": "[encoded data removed]",
      "text/plain": [
       "<matplotlib.figure.Figure at 0x21d8e558fd0>"
      ]
     },
     "metadata": {},
     "output_type": "display_data"
    },
    {
     "data": {
      "image/png": "[encoded data removed]",
      "text/plain": [
       "<matplotlib.figure.Figure at 0x21d8b151518>"
      ]
     },
     "metadata": {},
     "output_type": "display_data"
    }
   ],
   "source": [
    "image = \"./images/cars/car_0.jpg\"\n",
    "# def split_lincense_horizontally(image):\n",
    "plate = detect_lincense.detect_lincense(image)\n",
    "if isinstance(plate, str):\n",
    "    img = cv2.imread(plate)\n",
    "else:\n",
    "    img = plate\n",
    "gray = cv2.cvtColor(img, cv2.COLOR_BGR2GRAY)\n",
    "# gray_GB = cv2.GaussianBlur(gray, (3, 3), 0)\n",
    "# edges = cv2.Canny(gray_GB, 60, 120)   # img2tfrds can use the borders too\n",
    "ret, thr = cv2.threshold(gray, 90, 255, cv2.THRESH_BINARY)\n",
    "character_num = 7\n",
    "#     for i in range(thr.shape[0]-1, -1, -1):\n",
    "#         is_delete = 0\n",
    "#         for j in range(character_num - 1, -1, -1):\n",
    "#             if sum(thr[i, j * thr.shape[1]//character_num:(j+1) *\n",
    "#                    thr.shape[1]//character_num]) == 0:\n",
    "#                 is_delete += 1\n",
    "#         if is_delete > 1:\n",
    "#             thr = thr[:i]\n",
    "#         else:\n",
    "#             break\n",
    "#     thr = thr[::-1, :]\n",
    "#     for i in range(thr.shape[0]-1, -1, -1):\n",
    "#         is_delete = 0\n",
    "#         for j in range(character_num - 1, -1, -1):\n",
    "#             if sum(thr[i, j * thr.shape[1]//character_num:(j+1) *\n",
    "#                    thr.shape[1]//character_num]) == 0:\n",
    "#                 is_delete += 1\n",
    "#         if is_delete > 1:\n",
    "#             thr = thr[:i]\n",
    "#         else:\n",
    "#             break\n",
    "#     thr = thr[::-1, :]\n",
    "if np.sum(thr[:1, :]) * 2 > 255 * thr.shape[1]:\n",
    "    thr = 255 - thr\n",
    "# smooth bottom and top\n",
    "for i in range(thr.shape[0]-1, -1, -1):\n",
    "    jump_counter = 0\n",
    "    prev_value = thr[i][0]\n",
    "    is_jump = 0     # the step must be larger than the criteria\n",
    "    for j in thr[i]:\n",
    "        is_jump += 1\n",
    "        if j != prev_value:\n",
    "            if is_jump > 3:     # if the step is satisfied to the condition\n",
    "                jump_counter += 1\n",
    "            prev_value = j\n",
    "            is_jump = 0\n",
    "    if jump_counter < 12:\n",
    "        thr = thr[:i]\n",
    "    else:\n",
    "        break\n",
    "thr = thr[::-1]\n",
    "for i in range(thr.shape[0]-1, -1, -1):\n",
    "    jump_counter = 0\n",
    "    prev_value = thr[i][0]\n",
    "    is_jump = 0     # the step must be larger than the criteria\n",
    "    for j in thr[i]:\n",
    "        is_jump += 1\n",
    "        if j != prev_value:\n",
    "            if is_jump > 3:     # if the step is satisfied to the condition\n",
    "                jump_counter += 1\n",
    "            prev_value = j\n",
    "            is_jump = 0\n",
    "    if jump_counter < 12:\n",
    "        thr = thr[:i]\n",
    "    else:\n",
    "        break\n",
    "thr = thr[::-1]\n",
    "# if thr[:, 0].all():\n",
    "#     cv2.floodFill(\n",
    "#         thr, np.zeros((thr.shape[0]+2, thr.shape[1]+2), dtype=np.uint8),\n",
    "#         (0, 0), 0)\n",
    "# # floodFill to delete the vertical white space on both sides\n",
    "# if thr[:, -1].all():\n",
    "#     cv2.floodFill(\n",
    "#         thr, np.zeros((thr.shape[0]+2, thr.shape[1]+2), dtype=np.uint8),\n",
    "#         (thr.shape[1]-1, 0), 0)\n",
    "plt.imshow(thr, cmap=\"gray\")\n",
    "plt.title(\"floodFill\")\n",
    "plt.show()\n",
    "\n",
    "# Morphology\n",
    "kernel = cv2.getStructuringElement(cv2.MORPH_RECT, (1, 3))\n",
    "kernel1 = cv2.getStructuringElement(cv2.MORPH_RECT, (2, 2))\n",
    "thr_without_circle = cv2.morphologyEx(\n",
    "    cv2.dilate(thr, kernel), cv2.MORPH_CLOSE, kernel1)\n",
    "\n",
    "# cross line to kick out dot\n",
    "thr_without_circle[5, :] = 255\n",
    "\n",
    "_, cnts, _ = cv2.findContours(thr_without_circle,\n",
    "                              cv2.RETR_TREE, cv2.CHAIN_APPROX_SIMPLE)\n",
    "small_premeter = [i for i in cnts if cv2.contourArea(i) < 100]\n",
    "cv2.fillPoly(thr_without_circle, small_premeter, 0)     # Denoising\n",
    "\n",
    "# _, cnts, _ = cv2.findContours(thr_without_circle,\n",
    "#                               cv2.RETR_TREE, cv2.CHAIN_APPROX_SIMPLE)\n",
    "# small_premeter = [i for i in cnts if cv2.contourArea(i) < 100]\n",
    "# cv2.fillPoly(thr_without_circle, small_premeter, 255)\n",
    "kernel2 = cv2.getStructuringElement(cv2.MORPH_RECT, (3, 5))\n",
    "thr_without_circle_and = cv2.bitwise_and(\n",
    "    cv2.dilate(thr_without_circle, kernel2), thr)\n",
    "fig, (ax0, ax1) = plt.subplots(1, 2, figsize=(12, 6))\n",
    "ax0.imshow(thr_without_circle, cmap=\"gray\")\n",
    "ax1.imshow(thr_without_circle_and, cmap=\"gray\")\n",
    "plt.show()\n"
   ]
  },
  {
   "cell_type": "code",
   "execution_count": 10,
   "metadata": {},
   "outputs": [
    {
     "data": {
      "image/png": "[encoded data removed]",
      "text/plain": [
       "<matplotlib.figure.Figure at 0x21d8ed5bba8>"
      ]
     },
     "metadata": {},
     "output_type": "display_data"
    },
    {
     "data": {
      "image/png": "[encoded data removed]",
      "text/plain": [
       "<matplotlib.figure.Figure at 0x21d8e925588>"
      ]
     },
     "metadata": {},
     "output_type": "display_data"
    },
    {
     "data": {
      "image/png": "[encoded data removed]",
      "text/plain": [
       "<matplotlib.figure.Figure at 0x21d8e89c518>"
      ]
     },
     "metadata": {},
     "output_type": "display_data"
    },
    {
     "data": {
      "image/png": "[encoded data removed]",
      "text/plain": [
       "<matplotlib.figure.Figure at 0x21d8eac6860>"
      ]
     },
     "metadata": {},
     "output_type": "display_data"
    },
    {
     "data": {
      "image/png": "[encoded data removed]",
      "text/plain": [
       "<matplotlib.figure.Figure at 0x21d8e5c4c50>"
      ]
     },
     "metadata": {},
     "output_type": "display_data"
    },
    {
     "data": {
      "image/png": "[encoded data removed]",
      "text/plain": [
       "<matplotlib.figure.Figure at 0x21d8eae1e10>"
      ]
     },
     "metadata": {},
     "output_type": "display_data"
    },
    {
     "data": {
      "image/png": "[encoded data removed]",
      "text/plain": [
       "<matplotlib.figure.Figure at 0x21d8eb4d7b8>"
      ]
     },
     "metadata": {},
     "output_type": "display_data"
    },
    {
     "data": {
      "image/png": "[encoded data removed]",
      "text/plain": [
       "<matplotlib.figure.Figure at 0x21d8ecb32b0>"
      ]
     },
     "metadata": {},
     "output_type": "display_data"
    },
    {
     "data": {
      "image/png": "[encoded data removed]",
      "text/plain": [
       "<matplotlib.figure.Figure at 0x21d8e519898>"
      ]
     },
     "metadata": {},
     "output_type": "display_data"
    }
   ],
   "source": [
    "import cv2\n",
    "import matplotlib.pyplot as plt\n",
    "import numpy as np\n",
    "import detect_lincense\n",
    "\n",
    "\n",
    "def split_lincense_horizontally(image):\n",
    "    if isinstance(image, str):\n",
    "        img = cv2.imread(image)\n",
    "    else:\n",
    "        img = image\n",
    "    # 彩色图转灰度图, opencv读取图片通道顺序默认是bgr, 而非一半的rgb.\n",
    "    gray = cv2.cvtColor(img, cv2.COLOR_BGR2GRAY)\n",
    "    # gray_GB = cv2.GaussianBlur(gray, (3, 3), 0)\n",
    "    # edges = cv2.Canny(gray_GB, 60, 120)   # img2tfrds can use the borders too\n",
    "    # 阈值化, params: 灰度图像, 将灰度值>90的像素升至255, 反之降至0, thr是阈值化后的二值图像.\n",
    "    ret, thr = cv2.threshold(gray, 90, 255, cv2.THRESH_BINARY)\n",
    "    # 已知车牌共有7个字符+第三位置的\"·\"\n",
    "    character_num = 7\n",
    "\n",
    "    # 经验证, 这里原有的两个for循环并没有发挥功效, 原本的目的和下面一段相同, 都是为了上下两端的冗余黑背景的.\n",
    "    # 之前代码不佳, 还请见谅.\n",
    "\n",
    "\n",
    "    # 因为我在训练网络时, 尽可能地将字符调成了黑底白字,\n",
    "    # 因此我这里设置: 最上面一行的白像素个数达到一半, 则认为该图片的背景是白的, 所以将其取反, 黑白互换.\n",
    "    if np.sum(thr[:1, :]) * 2 > 255 * thr.shape[1]:\n",
    "        thr = 255 - thr\n",
    "    # smooth bottom and top\n",
    "    # 这2个for循环的目的是将上下\"磨平\", 主要目的是去除上下两端冗余的黑底.\n",
    "    # 未去除冗余的示意图为 \"图0.png\", 供参考比较.\n",
    "\n",
    "    # 去冗余的整体思路: 从左至右遍历某行, 行内像素值跳变次数多, 则表示有有效字符, 不然就当做冗余. 剔除.\n",
    "    for i in range(thr.shape[0]-1, -1, -1):\n",
    "        jump_counter = 0\n",
    "        prev_value = thr[i][0]  # 选取当前行的首个像素的值作为起始值.\n",
    "        is_jump = 0     # the step must be larger than the criteria\n",
    "        for j in thr[i]:\n",
    "            is_jump += 1\n",
    "            if j != prev_value:\n",
    "                # 若行内的当前列的值j != 之前的像素值(即: 黑->白 或 白->黑)\n",
    "                if is_jump > 3:     # if the step is satisfied to the condition\n",
    "                    # 这里设一个is_jump的意思是, 为了防止像素值连续跳变(黑白黑白..., 这可能产生于边缘的凹凸处, 将图片放很大可看清, 见\"图3.png\")\n",
    "                    jump_counter += 1    # 当前行跳变数 +1\n",
    "                prev_value = j\n",
    "                is_jump = 0\n",
    "        if jump_counter < 12:\n",
    "            thr = thr[:i]\n",
    "        else:\n",
    "            # 第一次出现不该删除的行, 则说明往里更内部的行皆为有效行.\n",
    "            break\n",
    "    thr = thr[::-1]\n",
    "    # 刚刚是从下往上处理, 这里是先将图片上下颠倒后, 再从下往上处理, 再上下颠倒.\n",
    "    for i in range(thr.shape[0]-1, -1, -1):\n",
    "        jump_counter = 0\n",
    "        prev_value = thr[i][0]\n",
    "        is_jump = 0     # the step must be larger than the criteria\n",
    "        for j in thr[i]:\n",
    "            is_jump += 1\n",
    "            if j != prev_value:\n",
    "                if is_jump > 3:     # if the step is satisfied to the condition\n",
    "                    jump_counter += 1\n",
    "                prev_value = j\n",
    "                is_jump = 0\n",
    "        if jump_counter < 12:\n",
    "            thr = thr[:i]\n",
    "        else:\n",
    "            break\n",
    "    \n",
    "    # floodFill to delete the vertical white space on both sides\n",
    "    thr = thr[::-1]\n",
    "    if thr[:, 0].all():\n",
    "        # thr[:, 0].all() != 0 说明第一列全白, 这在汉字来说不可能, 因此只能是左右冗余的白段, 在(0, 0)和(shape[1]-1, 0)两点浸水填充一下, 消去. \n",
    "        cv2.floodFill(\n",
    "            thr, np.zeros((thr.shape[0]+2, thr.shape[1]+2), dtype=np.uint8),\n",
    "            (0, 0), 0)\n",
    "    if thr[:, -1].all():\n",
    "        cv2.floodFill(\n",
    "            thr, np.zeros((thr.shape[0]+2, thr.shape[1]+2), dtype=np.uint8),\n",
    "            (thr.shape[1]-1, 0), 0)\n",
    "    plt.imshow(thr, cmap=\"gray\")\n",
    "    plt.title(\"floodFill\")\n",
    "    plt.show()\n",
    "\n",
    "    # Morphology\n",
    "    # 使用形态学变换, 是字符膨胀\"成团\"\n",
    "    kernel = cv2.getStructuringElement(cv2.MORPH_RECT, (1, 3))\n",
    "    kernel1 = cv2.getStructuringElement(cv2.MORPH_RECT, (2, 2))\n",
    "    thr_without_circle = cv2.morphologyEx(\n",
    "        cv2.dilate(thr, kernel), cv2.MORPH_CLOSE, kernel1)\n",
    "\n",
    "    # cross line to kick out dot\n",
    "    # 通过划线来剔除车牌中的\"·\"\n",
    "    thr_without_circle[5, :] = 255\n",
    "    # 在第5行划白线, 由于第5行很高, 因此不会接触到圆点, 从而可以把正常字符都连接起来, 形成一个大连通域.\n",
    "    # 然后消去小的连通域 -- 正常字符的主体都是那个大连通域的一部分, 因此不受影响, 而\"·\"未能连接, 因此属于小面积轮廓, 将被消去(将它填充背景色).\n",
    "\n",
    "    _, cnts, _ = cv2.findContours(thr_without_circle,\n",
    "                                  cv2.RETR_TREE, cv2.CHAIN_APPROX_SIMPLE)\n",
    "    small_area = [i for i in cnts if cv2.contourArea(i) < 100]\n",
    "    cv2.fillPoly(thr_without_circle, small_area, 0)     # Denoising\n",
    "    # 通过上面三行, 我们获取了用于消去\"·\"的掩码--图4.\n",
    "\n",
    "    # 然后让图4与图3做 与操作, 即可得到缺失\"·\"的原图.\n",
    "    # 原来这里有多余的三行, 无效, 故删之.\n",
    "    kernel2 = cv2.getStructuringElement(cv2.MORPH_RECT, (3, 5))\n",
    "    thr_without_circle_and = cv2.bitwise_and(\n",
    "        cv2.dilate(thr_without_circle, kernel2), thr)\n",
    "    # fig, (ax0, ax1) = plt.subplots(1, 2, figsize=(12, 6))\n",
    "    # ax0.imshow(thr_without_circle, cmap=\"gray\")\n",
    "    # ax1.imshow(thr_without_circle_and, cmap=\"gray\")\n",
    "    # plt.show()\n",
    "\n",
    "    # cut out the all-black borders\n",
    "    # 通过定位每个字符的最小纵坐标和最大纵坐标, 去除字符之间的黑段, 将其分别提取出来.\n",
    "    for i in range(thr_without_circle_and.shape[1]):\n",
    "        if sum(thr_without_circle_and[:, i]) > 0:\n",
    "            thr_without_circle_and = thr_without_circle_and[:, i:]\n",
    "            break\n",
    "    for i in range(thr_without_circle_and.shape[1]-1, -1, -1):\n",
    "        if sum(thr_without_circle_and[:, i]) > 0:\n",
    "            thr_without_circle_and = thr_without_circle_and[:, :i+1]\n",
    "            break\n",
    "\n",
    "    # get split lines\n",
    "    # 类似于之前的去除上下端冗余黑段, 这里也是从左往右扫获取所有字符的最小横坐标,从右往左扫获取all x_min\n",
    "    # 2者zip一下便获得了((x0_min, x0_max), (x1_min, x1_max), ..., (x6_min, x6_max)), 据此截段, 作为结果.\n",
    "    vertical_lines_0 = []\n",
    "    vertical_lines_1 = []\n",
    "    is_append = 1\n",
    "    for i in range(thr_without_circle_and.shape[1]):\n",
    "        if sum(thr_without_circle_and[:, i]) == 0:\n",
    "            if is_append:\n",
    "                vertical_lines_0.append(i)\n",
    "                is_append = 0\n",
    "        else:\n",
    "            is_append = 1\n",
    "    is_append = 1\n",
    "    for i in range(thr_without_circle_and.shape[1] - 1, -1, -1):\n",
    "        if sum(thr_without_circle_and[:, i]) == 0:\n",
    "            if is_append:\n",
    "                vertical_lines_1.append(i)\n",
    "                is_append = 0\n",
    "        else:\n",
    "            is_append = 1\n",
    "\n",
    "    # split out the individual character into split_imgs\n",
    "    black_spaces = list(zip(vertical_lines_0, sorted(vertical_lines_1)))\n",
    "    white_spaces = black_spaces.copy()\n",
    "    white_spaces = np.array(black_spaces).flatten().tolist()\n",
    "    white_spaces.append(thr_without_circle_and.shape[1])\n",
    "    white_spaces.insert(0, 0)\n",
    "    # print(\"white_spaces:\", white_spaces)\n",
    "    split_imgs = []\n",
    "    for i in range(0, len(white_spaces), 2):\n",
    "        split_imgs.append(\n",
    "            thr_without_circle_and[:, white_spaces[i]:white_spaces[i+1]])\n",
    "\n",
    "    return split_imgs\n",
    "\n",
    "\n",
    "def main():\n",
    "    image = \"./images/cars/car_0.jpg\"\n",
    "    plate = detect_lincense.detect_lincense(image)\n",
    "    split_imgs = split_lincense_horizontally(plate)\n",
    "    # print(\"split_imgs:\", split_imgs)\n",
    "    for i in split_imgs:\n",
    "        plt.imshow(i, cmap=\"gray\")\n",
    "        plt.show()\n",
    "\n",
    "\n",
    "if __name__ == '__main__':\n",
    "    main()\n"
   ]
  },
  {
   "cell_type": "code",
   "execution_count": null,
   "metadata": {
    "collapsed": true
   },
   "outputs": [],
   "source": []
  }
 ],
 "metadata": {
  "kernelspec": {
   "display_name": "Python 3",
   "language": "python",
   "name": "python3"
  },
  "language_info": {
   "codemirror_mode": {
    "name": "ipython",
    "version": 3
   },
   "file_extension": ".py",
   "mimetype": "text/x-python",
   "name": "python",
   "nbconvert_exporter": "python",
   "pygments_lexer": "ipython3",
   "version": "3.6.1"
  }
 },
 "nbformat": 4,
 "nbformat_minor": 2
}
